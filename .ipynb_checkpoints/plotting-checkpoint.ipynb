{
 "cells": [
  {
   "cell_type": "markdown",
   "metadata": {},
   "source": [
    "# Parameters"
   ]
  },
  {
   "cell_type": "code",
   "execution_count": 1,
   "metadata": {
    "ExecuteTime": {
     "end_time": "2021-01-23T00:52:54.763513Z",
     "start_time": "2021-01-23T00:52:54.758791Z"
    }
   },
   "outputs": [],
   "source": [
    "OUTPUT_DIR = 'output/1_day_out/'"
   ]
  },
  {
   "cell_type": "markdown",
   "metadata": {},
   "source": [
    "# Imports"
   ]
  },
  {
   "cell_type": "code",
   "execution_count": null,
   "metadata": {
    "ExecuteTime": {
     "start_time": "2021-01-23T00:52:54.749Z"
    }
   },
   "outputs": [],
   "source": [
    "import pandas as pd\n",
    "import numpy as np\n",
    "import matplotlib.pyplot as plt\n",
    "plt.style.use('fivethirtyeight')\n",
    "from sklearn.metrics import roc_curve, auc\n",
    "\n",
    "plt.rcParams[\"figure.figsize\"] = (12,12)"
   ]
  },
  {
   "cell_type": "markdown",
   "metadata": {},
   "source": [
    "# Helper Functions"
   ]
  },
  {
   "cell_type": "code",
   "execution_count": null,
   "metadata": {},
   "outputs": [],
   "source": []
  },
  {
   "cell_type": "markdown",
   "metadata": {},
   "source": [
    "# Load Data"
   ]
  },
  {
   "cell_type": "code",
   "execution_count": null,
   "metadata": {
    "ExecuteTime": {
     "start_time": "2021-01-23T00:52:54.778Z"
    }
   },
   "outputs": [],
   "source": [
    "test_predictions = pd.read_csv(OUTPUT_DIR + 'test_predictions.csv')\n",
    "train_predictions = pd.read_csv(OUTPUT_DIR + 'train_predictions.csv')"
   ]
  },
  {
   "cell_type": "code",
   "execution_count": null,
   "metadata": {
    "ExecuteTime": {
     "start_time": "2021-01-23T00:52:54.782Z"
    }
   },
   "outputs": [],
   "source": [
    "test_predictions.head()"
   ]
  },
  {
   "cell_type": "markdown",
   "metadata": {},
   "source": [
    "# Plot ROC Curve"
   ]
  },
  {
   "cell_type": "markdown",
   "metadata": {},
   "source": [
    "## Functions"
   ]
  },
  {
   "cell_type": "code",
   "execution_count": null,
   "metadata": {
    "ExecuteTime": {
     "start_time": "2021-01-23T00:52:54.823Z"
    }
   },
   "outputs": [],
   "source": [
    "def plot_roc_curve(data, title,FS=22,filename='roc.pdf'):\n",
    "    fpr, tpr, _ = roc_curve(\n",
    "    y_true=data['labels_int'],\n",
    "    y_score=data['predictions'])\n",
    "\n",
    "    roc_auc = auc(fpr, tpr)\n",
    "    \n",
    "    plt.figure(figsize=[6,6])\n",
    "    lw = 2\n",
    "    plt.plot(fpr, tpr, color='darkorange',\n",
    "             lw=lw, label='ROC curve (area = %0.2f)' % roc_auc)\n",
    "    plt.plot([0, 1], [0, 1], color='navy', lw=lw, linestyle='--')\n",
    "    plt.xlim([0.0, 1.0])\n",
    "    plt.ylim([0.0, 1.05])\n",
    "    plt.xlabel('False Positive Rate',fontsize=FS,labelpad=20)\n",
    "    plt.ylabel('True Positive Rate',fontsize=FS,labelpad=20)\n",
    "    plt.title(title,fontsize=FS,y=1.02,fontweight='bold')\n",
    "    plt.gca().tick_params(axis=\"x\", labelsize=FS,)\n",
    "    plt.gca().tick_params(axis=\"y\", labelsize=FS)\n",
    "    plt.legend(loc=\"lower right\",fontsize=FS)\n",
    "    \n",
    "    for label in plt.gca().get_xticklabels():\n",
    "        label.set_fontweight('demi') # If change to 551, label will be bold-like\n",
    "    for label in plt.gca().get_yticklabels():\n",
    "        label.set_fontweight('demi') # If change to 551, label will be bold-like\n",
    "    plt.gca().tick_params(axis='both', which='major', pad=15)\n",
    "    plt.gca().set_xlim(-0.05,None)\n",
    "    saveFIG(filename)\n",
    "    \n",
    "def saveFIG(filename='tmp.pdf'):\n",
    "    '''\n",
    "        save fig for publication\n",
    "    '''\n",
    "    import pylab as plt\n",
    "    plt.subplots_adjust(top = 1, bottom = 0, right = 1, left = 0, \n",
    "            hspace = 0, wspace = 0)\n",
    "    plt.margins(0,0)\n",
    "    #plt.gca().xaxis.set_major_locator(plt.NullLocator())\n",
    "    #plt.gca().yaxis.set_major_locator(plt.NullLocator())\n",
    "    plt.savefig(filename,dpi=300, bbox_inches = 'tight',pad_inches = 0,transparent=True) \n",
    "    return"
   ]
  },
  {
   "cell_type": "markdown",
   "metadata": {},
   "source": [
    "## Plotting"
   ]
  },
  {
   "cell_type": "code",
   "execution_count": null,
   "metadata": {
    "ExecuteTime": {
     "start_time": "2021-01-23T00:52:54.847Z"
    }
   },
   "outputs": [],
   "source": [
    "plot_roc_curve(test_predictions, 'ROC Curve',filename=OUTPUT_DIR + 'roc.pdf')"
   ]
  },
  {
   "cell_type": "code",
   "execution_count": null,
   "metadata": {
    "ExecuteTime": {
     "start_time": "2021-01-23T00:52:54.849Z"
    }
   },
   "outputs": [],
   "source": [
    "plot_roc_curve(train_predictions, 'Train ROC Curve',filename=OUTPUT_DIR + 'train_roc.pdf')"
   ]
  },
  {
   "cell_type": "code",
   "execution_count": null,
   "metadata": {},
   "outputs": [],
   "source": []
  }
 ],
 "metadata": {
  "kernelspec": {
   "display_name": "Python 3",
   "language": "python",
   "name": "python3"
  },
  "language_info": {
   "codemirror_mode": {
    "name": "ipython",
    "version": 2
   },
   "file_extension": ".py",
   "mimetype": "text/x-python",
   "name": "python",
   "nbconvert_exporter": "python",
   "pygments_lexer": "ipython2",
   "version": "2.7.16"
  },
  "latex_envs": {
   "LaTeX_envs_menu_present": true,
   "autoclose": false,
   "autocomplete": true,
   "bibliofile": "biblio.bib",
   "cite_by": "apalike",
   "current_citInitial": 1,
   "eqLabelWithNumbers": true,
   "eqNumInitial": 1,
   "hotkeys": {
    "equation": "Ctrl-E",
    "itemize": "Ctrl-I"
   },
   "labels_anchors": false,
   "latex_user_defs": false,
   "report_style_numbering": false,
   "user_envs_cfg": false
  },
  "toc": {
   "base_numbering": 1,
   "nav_menu": {},
   "number_sections": true,
   "sideBar": true,
   "skip_h1_title": false,
   "title_cell": "Table of Contents",
   "title_sidebar": "Contents",
   "toc_cell": false,
   "toc_position": {},
   "toc_section_display": true,
   "toc_window_display": false
  }
 },
 "nbformat": 4,
 "nbformat_minor": 2
}
