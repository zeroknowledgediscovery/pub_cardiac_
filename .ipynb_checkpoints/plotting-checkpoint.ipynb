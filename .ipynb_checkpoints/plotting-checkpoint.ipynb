{
 "cells": [
  {
   "cell_type": "markdown",
   "metadata": {},
   "source": [
    "# Parameters"
   ]
  },
  {
   "cell_type": "code",
   "execution_count": 1,
   "metadata": {
    "ExecuteTime": {
     "end_time": "2020-09-28T23:02:01.449051Z",
     "start_time": "2020-09-28T23:02:01.443972Z"
    }
   },
   "outputs": [],
   "source": [
    "OUTPUT_DIR = 'output/1_day_out/'"
   ]
  },
  {
   "cell_type": "markdown",
   "metadata": {},
   "source": [
    "# Imports"
   ]
  },
  {
   "cell_type": "code",
   "execution_count": 2,
   "metadata": {
    "ExecuteTime": {
     "end_time": "2020-09-28T23:02:30.563499Z",
     "start_time": "2020-09-28T23:02:02.550234Z"
    }
   },
   "outputs": [],
   "source": [
    "import pandas as pd\n",
    "import numpy as np\n",
    "import matplotlib.pyplot as plt\n",
    "plt.style.use('fivethirtyeight')\n",
    "from sklearn.metrics import roc_curve, auc\n",
    "\n",
    "plt.rcParams[\"figure.figsize\"] = (12,12)"
   ]
  },
  {
   "cell_type": "markdown",
   "metadata": {},
   "source": [
    "# Helper Functions"
   ]
  },
  {
   "cell_type": "code",
   "execution_count": null,
   "metadata": {},
   "outputs": [],
   "source": []
  },
  {
   "cell_type": "markdown",
   "metadata": {},
   "source": [
    "# Load Data"
   ]
  },
  {
   "cell_type": "code",
   "execution_count": 4,
   "metadata": {
    "ExecuteTime": {
     "end_time": "2020-09-28T23:02:46.971156Z",
     "start_time": "2020-09-28T23:02:46.944118Z"
    }
   },
   "outputs": [],
   "source": [
    "test_predictions = pd.read_csv(OUTPUT_DIR + 'test_predictions.csv')\n",
    "train_predictions = pd.read_csv(OUTPUT_DIR + 'train_predictions.csv')"
   ]
  },
  {
   "cell_type": "code",
   "execution_count": 6,
   "metadata": {
    "ExecuteTime": {
     "end_time": "2020-09-28T23:03:01.413046Z",
     "start_time": "2020-09-28T23:03:01.392183Z"
    }
   },
   "outputs": [
    {
     "data": {
      "text/html": [
       "<div>\n",
       "<style scoped>\n",
       "    .dataframe tbody tr th:only-of-type {\n",
       "        vertical-align: middle;\n",
       "    }\n",
       "\n",
       "    .dataframe tbody tr th {\n",
       "        vertical-align: top;\n",
       "    }\n",
       "\n",
       "    .dataframe thead th {\n",
       "        text-align: right;\n",
       "    }\n",
       "</style>\n",
       "<table border=\"1\" class=\"dataframe\">\n",
       "  <thead>\n",
       "    <tr style=\"text-align: right;\">\n",
       "      <th></th>\n",
       "      <th>Blinded_ID</th>\n",
       "      <th>labels</th>\n",
       "      <th>predictions</th>\n",
       "      <th>labels_int</th>\n",
       "    </tr>\n",
       "  </thead>\n",
       "  <tbody>\n",
       "    <tr>\n",
       "      <th>0</th>\n",
       "      <td>N2622</td>\n",
       "      <td>No Shock</td>\n",
       "      <td>2.645529e-09</td>\n",
       "      <td>0</td>\n",
       "    </tr>\n",
       "    <tr>\n",
       "      <th>1</th>\n",
       "      <td>N1551</td>\n",
       "      <td>No Shock</td>\n",
       "      <td>5.505060e-11</td>\n",
       "      <td>0</td>\n",
       "    </tr>\n",
       "    <tr>\n",
       "      <th>2</th>\n",
       "      <td>S0576</td>\n",
       "      <td>Shock</td>\n",
       "      <td>9.970176e-01</td>\n",
       "      <td>1</td>\n",
       "    </tr>\n",
       "    <tr>\n",
       "      <th>3</th>\n",
       "      <td>N0724</td>\n",
       "      <td>No Shock</td>\n",
       "      <td>5.983459e-20</td>\n",
       "      <td>0</td>\n",
       "    </tr>\n",
       "    <tr>\n",
       "      <th>4</th>\n",
       "      <td>N0563</td>\n",
       "      <td>No Shock</td>\n",
       "      <td>3.362763e-11</td>\n",
       "      <td>0</td>\n",
       "    </tr>\n",
       "  </tbody>\n",
       "</table>\n",
       "</div>"
      ],
      "text/plain": [
       "  Blinded_ID    labels   predictions  labels_int\n",
       "0      N2622  No Shock  2.645529e-09           0\n",
       "1      N1551  No Shock  5.505060e-11           0\n",
       "2      S0576     Shock  9.970176e-01           1\n",
       "3      N0724  No Shock  5.983459e-20           0\n",
       "4      N0563  No Shock  3.362763e-11           0"
      ]
     },
     "execution_count": 6,
     "metadata": {},
     "output_type": "execute_result"
    }
   ],
   "source": [
    "test_predictions.head()"
   ]
  },
  {
   "cell_type": "markdown",
   "metadata": {},
   "source": [
    "# Plot ROC Curve"
   ]
  },
  {
   "cell_type": "markdown",
   "metadata": {},
   "source": [
    "## Functions"
   ]
  },
  {
   "cell_type": "code",
   "execution_count": 7,
   "metadata": {
    "ExecuteTime": {
     "end_time": "2020-09-28T23:03:05.270910Z",
     "start_time": "2020-09-28T23:03:05.230233Z"
    }
   },
   "outputs": [],
   "source": [
    "def plot_roc_curve(data, title,FS=22,filename='roc.pdf'):\n",
    "    fpr, tpr, _ = roc_curve(\n",
    "    y_true=data['labels_int'],\n",
    "    y_score=data['predictions'])\n",
    "\n",
    "    roc_auc = auc(fpr, tpr)\n",
    "    \n",
    "    plt.figure(figsize=[6,6])\n",
    "    lw = 2\n",
    "    plt.plot(fpr, tpr, color='darkorange',\n",
    "             lw=lw, label='ROC curve (area = %0.2f)' % roc_auc)\n",
    "    plt.plot([0, 1], [0, 1], color='navy', lw=lw, linestyle='--')\n",
    "    plt.xlim([0.0, 1.0])\n",
    "    plt.ylim([0.0, 1.05])\n",
    "    plt.xlabel('False Positive Rate',fontsize=FS,labelpad=20)\n",
    "    plt.ylabel('True Positive Rate',fontsize=FS,labelpad=20)\n",
    "    plt.title(title,fontsize=FS,y=1.02,fontweight='bold')\n",
    "    plt.gca().tick_params(axis=\"x\", labelsize=FS,)\n",
    "    plt.gca().tick_params(axis=\"y\", labelsize=FS)\n",
    "    plt.legend(loc=\"lower right\",fontsize=FS)\n",
    "    \n",
    "    for label in plt.gca().get_xticklabels():\n",
    "        label.set_fontweight('demi') # If change to 551, label will be bold-like\n",
    "    for label in plt.gca().get_yticklabels():\n",
    "        label.set_fontweight('demi') # If change to 551, label will be bold-like\n",
    "    plt.gca().tick_params(axis='both', which='major', pad=15)\n",
    "    plt.gca().set_xlim(-0.05,None)\n",
    "    saveFIG(filename)\n",
    "    \n",
    "def saveFIG(filename='tmp.pdf'):\n",
    "    '''\n",
    "        save fig for publication\n",
    "    '''\n",
    "    import pylab as plt\n",
    "    plt.subplots_adjust(top = 1, bottom = 0, right = 1, left = 0, \n",
    "            hspace = 0, wspace = 0)\n",
    "    plt.margins(0,0)\n",
    "    #plt.gca().xaxis.set_major_locator(plt.NullLocator())\n",
    "    #plt.gca().yaxis.set_major_locator(plt.NullLocator())\n",
    "    plt.savefig(filename,dpi=300, bbox_inches = 'tight',pad_inches = 0,transparent=True) \n",
    "    return"
   ]
  },
  {
   "cell_type": "markdown",
   "metadata": {},
   "source": [
    "## Plotting"
   ]
  },
  {
   "cell_type": "code",
   "execution_count": 8,
   "metadata": {
    "ExecuteTime": {
     "end_time": "2020-09-28T23:03:27.051670Z",
     "start_time": "2020-09-28T23:03:25.538479Z"
    }
   },
   "outputs": [
    {
     "data": {
      "image/png": "[encoded data removed]",
      "text/plain": [
       "<Figure size 432x432 with 1 Axes>"
      ]
     },
     "metadata": {},
     "output_type": "display_data"
    }
   ],
   "source": [
    "plot_roc_curve(test_predictions, 'ROC Curve',filename=OUTPUT_DIR + 'roc.pdf')"
   ]
  },
  {
   "cell_type": "code",
   "execution_count": null,
   "metadata": {
    "ExecuteTime": {
     "start_time": "2020-09-28T23:03:56.375Z"
    }
   },
   "outputs": [],
   "source": [
    "plot_roc_curve(train_predictions, 'Train ROC Curve',filename=OUTPUT_DIR + 'train_roc.pdf')"
   ]
  },
  {
   "cell_type": "code",
   "execution_count": null,
   "metadata": {},
   "outputs": [],
   "source": []
  }
 ],
 "metadata": {
  "kernelspec": {
   "display_name": "Python 3",
   "language": "python",
   "name": "python3"
  },
  "language_info": {
   "codemirror_mode": {
    "name": "ipython",
    "version": 2
   },
   "file_extension": ".py",
   "mimetype": "text/x-python",
   "name": "python",
   "nbconvert_exporter": "python",
   "pygments_lexer": "ipython2",
   "version": "2.7.16"
  },
  "latex_envs": {
   "LaTeX_envs_menu_present": true,
   "autoclose": false,
   "autocomplete": true,
   "bibliofile": "biblio.bib",
   "cite_by": "apalike",
   "current_citInitial": 1,
   "eqLabelWithNumbers": true,
   "eqNumInitial": 1,
   "hotkeys": {
    "equation": "Ctrl-E",
    "itemize": "Ctrl-I"
   },
   "labels_anchors": false,
   "latex_user_defs": false,
   "report_style_numbering": false,
   "user_envs_cfg": false
  },
  "toc": {
   "base_numbering": 1,
   "nav_menu": {},
   "number_sections": true,
   "sideBar": true,
   "skip_h1_title": false,
   "title_cell": "Table of Contents",
   "title_sidebar": "Contents",
   "toc_cell": false,
   "toc_position": {},
   "toc_section_display": true,
   "toc_window_display": false
  }
 },
 "nbformat": 4,
 "nbformat_minor": 2
}
